{
 "cells": [
  {
   "cell_type": "markdown",
   "metadata": {},
   "source": [
    "Task 1 create a function to convert pounds to kilograms"
   ]
  },
  {
   "cell_type": "code",
   "execution_count": 3,
   "metadata": {},
   "outputs": [
    {
     "data": {
      "text/plain": [
       "0.45454545454545453"
      ]
     },
     "execution_count": 3,
     "metadata": {},
     "output_type": "execute_result"
    }
   ],
   "source": [
    "def convert_to_kg(pound):\n",
    "    kilogram = pound / 2.2\n",
    "    return kilogram\n",
    "\n",
    "convert_to_kg(1)"
   ]
  },
  {
   "cell_type": "markdown",
   "metadata": {},
   "source": [
    "Task 2 create a function to convert Fahrenheit to celsius"
   ]
  },
  {
   "cell_type": "code",
   "execution_count": 4,
   "metadata": {},
   "outputs": [
    {
     "data": {
      "text/plain": [
       "37.77777777777778"
      ]
     },
     "execution_count": 4,
     "metadata": {},
     "output_type": "execute_result"
    }
   ],
   "source": [
    "def convert_to_celsius(fehrenheit):\n",
    "    celsius = (fehrenheit - 32)*(5/9) \n",
    "    return celsius\n",
    "\n",
    "convert_to_celsius(100)"
   ]
  },
  {
   "cell_type": "markdown",
   "metadata": {},
   "source": [
    "Task 3 Make a python program using lists\n",
    "\n",
    "User can make a list of 10 numbers.\n",
    "Calculate the total and the average of the 10 numbers.\n",
    "User can put a number and compare it with the average and it will be printed."
   ]
  },
  {
   "cell_type": "code",
   "execution_count": 7,
   "metadata": {},
   "outputs": [
    {
     "name": "stdout",
     "output_type": "stream",
     "text": [
      "total is 30\n",
      "average is 3.0\n",
      "3 is equal to average\n"
     ]
    }
   ],
   "source": [
    "new_list = []\n",
    "\n",
    "while len(new_list) < 10:\n",
    "    new_list.append(int(input(\"type a number\")))\n",
    "\n",
    "total = sum(new_list)\n",
    "print(\"total is \" + str(total))\n",
    "\n",
    "average = total / 10\n",
    "print(\"average is \" + str(average))\n",
    "\n",
    "\n",
    "number_to_compare = int(input(\"type a number\"))\n",
    "\n",
    "if number_to_compare > average:\n",
    "    print(str(number_to_compare) + \" is above the average\")\n",
    "elif number_to_compare < average:\n",
    "    print(str(number_to_compare) + \" is below the average\")\n",
    "else:\n",
    "    print(str(number_to_compare) + \" is equal to the average\")\n",
    "    "
   ]
  }
 ],
 "metadata": {
  "kernelspec": {
   "display_name": "Python 3.9.13 64-bit",
   "language": "python",
   "name": "python3"
  },
  "language_info": {
   "codemirror_mode": {
    "name": "ipython",
    "version": 3
   },
   "file_extension": ".py",
   "mimetype": "text/x-python",
   "name": "python",
   "nbconvert_exporter": "python",
   "pygments_lexer": "ipython3",
   "version": "3.9.13"
  },
  "orig_nbformat": 4,
  "vscode": {
   "interpreter": {
    "hash": "b0fa6594d8f4cbf19f97940f81e996739fb7646882a419484c72d19e05852a7e"
   }
  }
 },
 "nbformat": 4,
 "nbformat_minor": 2
}

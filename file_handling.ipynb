{
 "cells": [
  {
   "cell_type": "code",
   "execution_count": 10,
   "metadata": {},
   "outputs": [
    {
     "name": "stdout",
     "output_type": "stream",
     "text": [
      "1\n",
      "6\n"
     ]
    }
   ],
   "source": [
    "# Reading existing txt file\n",
    "\n",
    "with open(\"number_text.txt\", \"r\") as file:\n",
    "    for line in file:\n",
    "        line = line.split(\",\")\n",
    "        print(line[0])"
   ]
  },
  {
   "cell_type": "code",
   "execution_count": 12,
   "metadata": {},
   "outputs": [],
   "source": [
    "# Writing a new txt file\n",
    "\n",
    "def save_to_file(name, age):\n",
    "    with open(\"name_data\", \"w\") as file:\n",
    "        line = \",\".join([name,age])\n",
    "        file.write(line + \"\\n\")\n",
    "        file.close\n",
    "\n",
    "name = input(\"Enter your name\")\n",
    "age = input(\"enter your age\")\n",
    "save_to_file(name, age)"
   ]
  }
 ],
 "metadata": {
  "kernelspec": {
   "display_name": "Python 3.9.13 64-bit",
   "language": "python",
   "name": "python3"
  },
  "language_info": {
   "codemirror_mode": {
    "name": "ipython",
    "version": 3
   },
   "file_extension": ".py",
   "mimetype": "text/x-python",
   "name": "python",
   "nbconvert_exporter": "python",
   "pygments_lexer": "ipython3",
   "version": "3.9.13"
  },
  "orig_nbformat": 4,
  "vscode": {
   "interpreter": {
    "hash": "b0fa6594d8f4cbf19f97940f81e996739fb7646882a419484c72d19e05852a7e"
   }
  }
 },
 "nbformat": 4,
 "nbformat_minor": 2
}

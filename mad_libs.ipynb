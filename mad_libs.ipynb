{
 "cells": [
  {
   "cell_type": "code",
   "execution_count": 1,
   "metadata": {},
   "outputs": [
    {
     "name": "stdout",
     "output_type": "stream",
     "text": [
      "Humpty Dumpty sat on a wall\n",
      "Humpty Dumpty had a great fall\n",
      "All the king's hourses and the king's men\n",
      "couldn't put Humpty together again\n"
     ]
    }
   ],
   "source": [
    "# Mad libs generator\n",
    "\n",
    "noun1 = input(\"input a noun\")\n",
    "noun2 = input(\"input a noun\")\n",
    "plural_noun1 = input(\"input a plural noun\")\n",
    "plural_noun2 = input(\"input a plural noun\")\n",
    "verb1 = input(\"input a verb\")\n",
    "adverb1 = input(\"input an adverb\")\n",
    "\n",
    "print(\"Humpty Dumpty sat on a \" + noun1)\n",
    "print(\"Humpty Dumpty had a great \" + noun2)\n",
    "print(\"All the king's \" + plural_noun1 + \" and all the king's \" + plural_noun2)\n",
    "print(\"Couldn't \" + verb1 + \" Humpty together \" + adverb1)"
   ]
  }
 ],
 "metadata": {
  "kernelspec": {
   "display_name": "Python 3.9.13 64-bit",
   "language": "python",
   "name": "python3"
  },
  "language_info": {
   "codemirror_mode": {
    "name": "ipython",
    "version": 3
   },
   "file_extension": ".py",
   "mimetype": "text/x-python",
   "name": "python",
   "nbconvert_exporter": "python",
   "pygments_lexer": "ipython3",
   "version": "3.9.13"
  },
  "orig_nbformat": 4,
  "vscode": {
   "interpreter": {
    "hash": "b0fa6594d8f4cbf19f97940f81e996739fb7646882a419484c72d19e05852a7e"
   }
  }
 },
 "nbformat": 4,
 "nbformat_minor": 2
}

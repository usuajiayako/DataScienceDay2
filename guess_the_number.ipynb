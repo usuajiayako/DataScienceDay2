{
 "cells": [
  {
   "cell_type": "code",
   "execution_count": 14,
   "metadata": {},
   "outputs": [
    {
     "name": "stdout",
     "output_type": "stream",
     "text": [
      "Your guess is too low!\n",
      "Your guess is too low!\n",
      "Your guess is too low!\n",
      "Your guess is too low!\n",
      "Your guess is too high!\n",
      "Your guess is too low!\n",
      "Your guess is too low!\n",
      "Your guess is too low!\n",
      "Your guess is too low!\n",
      "Your guess is too low!\n",
      "Your guess is too low!\n",
      "Your guess is too low!\n",
      "Your guess is correct!!\n"
     ]
    }
   ],
   "source": [
    "# number guessing game\n",
    "import random\n",
    "\n",
    "random_num = random.randint(1, 100)\n",
    "\n",
    "while True:\n",
    "    guess_num = (input(\"guess the number between 1 to 100\"))\n",
    "\n",
    "    if str.isdigit(guess_num) == False:\n",
    "        print(\"type a number not letters!!\")\n",
    "        continue\n",
    "\n",
    "    difference = random_num - int(guess_num)\n",
    "\n",
    "    if difference < 0:\n",
    "        print(\"Your guess is too high! Try again!\")\n",
    "        continue\n",
    "    elif difference > 0:\n",
    "        print(\"Your guess is too low! Try again!\")\n",
    "        continue\n",
    "    elif difference == 0:\n",
    "        print(\"Your guess is correct!!\")\n",
    "        break"
   ]
  }
 ],
 "metadata": {
  "kernelspec": {
   "display_name": "Python 3.9.13 64-bit",
   "language": "python",
   "name": "python3"
  },
  "language_info": {
   "codemirror_mode": {
    "name": "ipython",
    "version": 3
   },
   "file_extension": ".py",
   "mimetype": "text/x-python",
   "name": "python",
   "nbconvert_exporter": "python",
   "pygments_lexer": "ipython3",
   "version": "3.9.13"
  },
  "orig_nbformat": 4,
  "vscode": {
   "interpreter": {
    "hash": "b0fa6594d8f4cbf19f97940f81e996739fb7646882a419484c72d19e05852a7e"
   }
  }
 },
 "nbformat": 4,
 "nbformat_minor": 2
}
